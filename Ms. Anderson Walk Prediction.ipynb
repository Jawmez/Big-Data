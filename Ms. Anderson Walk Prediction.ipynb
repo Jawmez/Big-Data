{
 "cells": [
  {
   "cell_type": "code",
   "execution_count": 6,
   "metadata": {
    "collapsed": false
   },
   "outputs": [
    {
     "name": "stdout",
     "output_type": "stream",
     "text": [
      "[0]\n"
     ]
    }
   ],
   "source": [
    "import sklearn\n",
    "from sklearn import tree; \n",
    "features = [[75, 1], [62, 0], [70, 0], [71, 1], [59, 0], [40, 0], [63, 1], [66, 0], [59, 1]];\n",
    "labels = [1, 1, 1, 0, 1, 0, 0, 0, 0,]\n",
    "clf = tree.DecisionTreeClassifier()\n",
    "clf = clf.fit(features, labels); \n",
    "print(clf.predict([[55, 1]]))"
   ]
  },
  {
   "cell_type": "code",
   "execution_count": null,
   "metadata": {
    "collapsed": true
   },
   "outputs": [],
   "source": []
  }
 ],
 "metadata": {
  "kernelspec": {
   "display_name": "Python 3",
   "language": "python",
   "name": "python3"
  },
  "language_info": {
   "codemirror_mode": {
    "name": "ipython",
    "version": 3
   },
   "file_extension": ".py",
   "mimetype": "text/x-python",
   "name": "python",
   "nbconvert_exporter": "python",
   "pygments_lexer": "ipython3",
   "version": "3.5.1"
  }
 },
 "nbformat": 4,
 "nbformat_minor": 0
}

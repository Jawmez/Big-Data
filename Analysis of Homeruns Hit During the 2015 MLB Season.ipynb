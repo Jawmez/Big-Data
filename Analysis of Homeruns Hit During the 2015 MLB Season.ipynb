{
 "cells": [
  {
   "cell_type": "markdown",
   "metadata": {},
   "source": [
    "# Analysis of Homeruns Hit During the MLB 2015 Season "
   ]
  },
  {
   "cell_type": "markdown",
   "metadata": {
    "collapsed": true
   },
   "source": [
    "### Section One: Analyze and Present Homerun Data From the 2016 Season"
   ]
  },
  {
   "cell_type": "markdown",
   "metadata": {},
   "source": [
    "Introduction\n",
    "\n",
    "For this lab assignment, I decided to look at trends in baseball data. More specifically, I decided to dleve into data on the homeruns hit during the 2015 MLB season. Initially I worked by finding out basic statistical figures about the data. How many homeruns where hit during the season? What was the average homerun distance? and etc. In the next portion of the lab, I focused on my big data question, which was: is there a correlation between the number of homeruns hit during the season and a teams number of wins? After finding these results, I answered some of the quesitons comming from my results. "
   ]
  },
  {
   "cell_type": "code",
   "execution_count": 3,
   "metadata": {
    "collapsed": false
   },
   "outputs": [
    {
     "name": "stdout",
     "output_type": "stream",
     "text": [
      "A total of 4899 homers where hit during the 2015 MLB season.\n",
      "The total distance of all of the homeruns hit during the year was 1952974 feet.\n",
      "The average homerun was 398.64747907736273 feet.\n"
     ]
    }
   ],
   "source": [
    "import statistics\n",
    "import scipy.stats as st \n",
    "import matplotlib.pyplot as plt\n",
    "%matplotlib inline\n",
    "import numpy as np\n",
    "\n",
    "data_one = open(\"baseball_list.csv\", \"r\", errors = \"ignore\"); \n",
    "data_list = []; \n",
    "for aa in data_one:\n",
    "    data_list.append(aa); \n",
    "del data_list[0];\n",
    "\n",
    "for ii in range(len(data_list)):\n",
    "    #make into a list of lists of just numbers\n",
    "    data_list[ii] = data_list[ii].split(\",\");\n",
    "\n",
    "#print(data_list);\n",
    "\n",
    "num_homers = len(data_list)\n",
    "print(\"A total of\", num_homers, \"homers where hit during the 2015 MLB season.\");\n",
    "\n",
    "tot_distance = []; \n",
    "for ii in range(len(data_list)):\n",
    "    tot_distance.append(data_list[ii][10]); \n",
    "\n",
    "for xx in range(len(tot_distance)): \n",
    "    tot_distance[xx] = int(tot_distance[xx]);\n",
    "\n",
    "dist_home = sum(tot_distance); \n",
    "avg_dist_home = float((dist_home)/(len(tot_distance))); \n",
    "\n",
    "print(\"The total distance of all of the homeruns hit during the year was\", dist_home, \"feet.\");\n",
    "print(\"The average homerun was\", avg_dist_home, \"feet.\"); "
   ]
  },
  {
   "cell_type": "markdown",
   "metadata": {},
   "source": [
    "### How Many Homeruns Did the Average Qualifying Player Hit? "
   ]
  },
  {
   "cell_type": "code",
   "execution_count": 59,
   "metadata": {
    "collapsed": false
   },
   "outputs": [
    {
     "name": "stdout",
     "output_type": "stream",
     "text": [
      "The average number of homers hit by a qualifying mlb player during the 2015 season was 9.568359375 homeruns.\n",
      "Enter a number to search the homerun rankings of 2015 (1 - 512): 3\n",
      "('Harper Bryce', 42)\n"
     ]
    }
   ],
   "source": [
    "import operator \n",
    "data_two = open(\"homer_name.csv\", \"r\", errors = \"ignore\"); \n",
    "data_list_two = []; \n",
    "for aa in data_two:\n",
    "    data_list_two.append(aa); \n",
    "del data_list_two[0];\n",
    "\n",
    "people = []\n",
    "for bb in range(len(data_list_two)):\n",
    "    people.append(data_list_two[bb]);\n",
    "\n",
    "for cc in range(len(people)):\n",
    "    people[cc] = people[cc].replace(\"\\n\", \"\"); \n",
    "    \n",
    "#print(people);\n",
    "\n",
    "homers = {} \n",
    "for ii in people:\n",
    "    if ii not in homers:\n",
    "        homers[ii] = 1\n",
    "    else:\n",
    "        homers[ii] += 1\n",
    "\n",
    "#print(data_list_two);\n",
    "\n",
    "print(\"The average number of homers hit by a qualifying mlb player during the 2015 season was\", 4899/(len(homers)), \"homeruns.\");\n",
    "#for y in homers:\n",
    "    #print(y, homers[y]); \n",
    "    \n",
    "sorted_x = sorted(homers.items(), key=operator.itemgetter(1), reverse = True); \n",
    "listapp = int(input(\"Enter a number to search the homerun rankings of 2015 (1 - 512): \"))\n",
    "print(sorted_x[listapp - 1]); \n"
   ]
  },
  {
   "cell_type": "markdown",
   "metadata": {},
   "source": [
    "In the first two sections of the code, I made calculations to find basic statistical information on the number of homeruns hit during the 2015 mlb season. I found that the average distance that a homerun was hit was a little over 398 feet. I also found the total distance of all of the homeruns hit during the 2015 campaign. In the second section I calculated the average number of homeruns hit by a qualifying baseball player. I defined a qualifiying hitter as a player who hit atleast one homerun during the season. I also created an input function which would take a value and return that value place within the homerun standings. For example, if a user entered the number five, they would recieve the played who hit the fifth most homeruns during the campagin. "
   ]
  },
  {
   "cell_type": "markdown",
   "metadata": {},
   "source": [
    "### Is There A Correlation Between Wins and Number of Homeruns? What About Homeruns and Runs Scored? Runs Scored and Wins?"
   ]
  },
  {
   "cell_type": "code",
   "execution_count": 58,
   "metadata": {
    "collapsed": false
   },
   "outputs": [
    {
     "name": "stdout",
     "output_type": "stream",
     "text": [
      "{'MIL': 145, 'MIN': 155, 'NYM': 176, 'LAA': 176, 'BOS': 161, 'KC': 138, 'CHC': 170, 'CLE': 141, 'HOU': 229, 'CIN': 167, 'TEX': 171, 'PIT': 140, 'SEA': 198, 'STL': 137, 'ATL': 100, 'COL': 186, 'LAD': 187, 'MIA': 120, 'NYY': 212, 'TB': 166, 'PHI': 129, 'WSH': 177, 'BAL': 216, 'ARI': 154, 'OAK': 146, 'DET': 151, 'TOR': 232, 'CHW': 135, 'SD': 148, 'SF': 136}\n"
     ]
    },
    {
     "data": {
      "image/png": "[encoded data removed]",
      "text/plain": [
       "<matplotlib.figure.Figure at 0x106bbbcf8>"
      ]
     },
     "metadata": {},
     "output_type": "display_data"
    },
    {
     "name": "stdout",
     "output_type": "stream",
     "text": [
      "Regression Results Between Homeruns and Team Wins: LinregressResult(slope=0.92657964215464572, intercept=88.277934973545527, rvalue=0.30494186023373793, pvalue=0.10130514427734114, stderr=0.54688100779591819)\n"
     ]
    },
    {
     "data": {
      "image/png": "[encoded data removed]",
      "text/plain": [
       "<matplotlib.figure.Figure at 0x10a489b70>"
      ]
     },
     "metadata": {},
     "output_type": "display_data"
    },
    {
     "name": "stdout",
     "output_type": "stream",
     "text": [
      "Regression Results Between Runs Scored and Team Wins: LinregressResult(slope=2.4213676382416982, intercept=492.18326689036383, rvalue=0.43075053253127171, pvalue=0.017488131273413615, stderr=0.95871422135833784)\n"
     ]
    },
    {
     "data": {
      "image/png": "[encoded data removed]",
      "text/plain": [
       "<matplotlib.figure.Figure at 0x10a16e588>"
      ]
     },
     "metadata": {},
     "output_type": "display_data"
    },
    {
     "name": "stdout",
     "output_type": "stream",
     "text": [
      "Regression Results Between Runs Scored and Homeruns: LinregressResult(slope=0.36359681111668507, intercept=-86.939445304206544, rvalue=0.67265018740676574, pvalue=4.660376989018947e-05, stderr=0.075589312004245013)\n"
     ]
    }
   ],
   "source": [
    "import statistics\n",
    "import scipy.stats as st \n",
    "import matplotlib.pyplot as plt\n",
    "%matplotlib inline\n",
    "import numpy as np\n",
    "\n",
    "\n",
    "data_three = open(\"Team_Wins .csv\", \"r\", errors = \"ignore\"); \n",
    "data_list_three = []; \n",
    "for ee in data_three:\n",
    "    data_list_three.append(ee); \n",
    "del data_list_three[0];\n",
    "\n",
    "for ii in range(len(data_list_three)):\n",
    "    #make into a list of lists of just numbers\n",
    "    data_list_three[ii] = data_list_three[ii].split(\",\");\n",
    "\n",
    "team = []\n",
    "for cc in range(len(data_list)):\n",
    "    team.append(data_list[cc][3]);\n",
    "\n",
    "homer_team = {} \n",
    "for ii in team:\n",
    "    if ii not in homer_team:\n",
    "        homer_team[ii] = 1\n",
    "    else:\n",
    "        homer_team[ii] += 1\n",
    "\n",
    "print(homer_team);\n",
    "\n",
    "num_wins = []; \n",
    "for ww in range(len(data_list_three)):\n",
    "    num_wins.append(data_list_three[ww][1])\n",
    "\n",
    "num_homers = []; \n",
    "for zz in range(len(data_list_three)):\n",
    "    num_homers.append(data_list_three[zz][4]); \n",
    "for xx in range (len(num_homers)):\n",
    "    num_homers[xx] = num_homers[xx].replace(\"\\n\", \"\");\n",
    "\n",
    "num_runs = []; \n",
    "for aa in range(len(data_list_three)):\n",
    "    num_runs.append(data_list_three[aa][3]); \n",
    "\n",
    "#print(num_wins)\n",
    "#print(num_homers)\n",
    "\n",
    "for rr in range (len(num_wins)):\n",
    "    num_wins[rr] = int(num_wins[rr]); \n",
    "for ss in range (len(num_homers)):\n",
    "    num_homers[ss] = int(num_homers[ss]);\n",
    "for tt in range (len(num_runs)):\n",
    "    num_runs[tt] = int(num_runs[tt]); \n",
    "    \n",
    "plt.scatter(num_wins, num_homers)\n",
    "plt.title(\"The Correlation Between Homeruns and Team Wins\")\n",
    "plt.xlabel(\"Number of Wins\")\n",
    "plt.ylabel(\"Number of Homers Hit By Teams\"); \n",
    "plt.show()\n",
    "\n",
    "linplot_one = st.linregress(num_wins, num_homers); \n",
    "print(\"Regression Results Between Homeruns and Team Wins:\", linplot_one);\n",
    "\n",
    "plt.scatter(num_wins, num_runs)\n",
    "plt.title(\"The Correlation Between Runs Scored and Team Wins\")\n",
    "plt.xlabel(\"Number of Wins\")\n",
    "plt.ylabel(\"Number of Runs Scored By Teams\"); \n",
    "plt.show()\n",
    "\n",
    "linplot_two = st.linregress(num_wins, num_runs); \n",
    "print(\"Regression Results Between Runs Scored and Team Wins:\", linplot_two);\n",
    "\n",
    "plt.scatter(num_runs, num_homers)\n",
    "plt.title(\"The Correlation Between Homeruns and Runs Scored\")\n",
    "plt.xlabel(\"Number of Runs\")\n",
    "plt.ylabel(\"Number of Homers Hit By Teams\"); \n",
    "plt.show()\n",
    "\n",
    "linplot_three = st.linregress(num_runs, num_homers); \n",
    "print(\"Regression Results Between Runs Scored and Homeruns:\", linplot_three);"
   ]
  },
  {
   "cell_type": "markdown",
   "metadata": {},
   "source": [
    "In this section, I concluded that there was a weak correlation between homeruns hit and the number of games that a team won. I was presented with an r-value of around .3, which indicates a very small correlation between the two variables. This is not what I was expecting. I initially thought that there would be a high correlation between the two factors. After some thought, I decided that the reason that there was not a high correlation between the two was most likley becasue there where many lurking varibales which could effect the outcome of a baseball game, in this scenario. For example, a winning team may rely on pitching strength to shut down their oponents while they only muster one or two runs in the game. A team may also have many players who get on base and score on singles and doubles (ie teams with players who hit for a high average rather than power). After realizing this, I decided to find the correlation between runs scored games won by a team. Suprisingly, games won by a team also yeilded a low r-value at .43, indicating that there was not much relationship between the two variables. Even with the lurking variables, I would have expected to see a higher correlation between runs scored and wins. Finally, I decided to find the correlation between runs scored and the number of homeruns hit by each team. This time, my outcome was a relativly high r value, at .67. This tells me that there is a mild relationship between the number of homeruns hit and the number of runs scored. This definetly makes sense as a homerun is garunteed to give a team atleast one run scored. \n",
    "\n",
    "In conclusion, my results indicated that the number of homeruns hit by a team has little to no effect on how well they will do during the season. Despite this trend, many teams still spend millions of dollars to bring power hitting players to their team. Many lurking variables such as Team atmosphere and chemsitry, opponent matchups, reserve players, health, pitching staff and coaches can all have an effect on the outcome of a game. I beleive that each of these variables contributes to a team's success in different ways. In my results, I also found little to no correlation between runs scored and wins. After doing some research on the 2015 campaign after I finsished this project, I found that many teams that made it to the post season carried average lineups with very strong pitching staffs. Many of the teams in the post season carried pitchers who averaged giving up less than 3 runs for every nine innings (ERA and the league average ERA was around 4 in 2015). Finally, I also decided to look for a correlation between homeruns hit and runs scored. I found a high correlation between these two values. Homeruns can give a team one to four runs based on the number of runners already on base, so this result makes sense. In the future it would be intresting to run this same test with pitchers data. "
   ]
  }
 ],
 "metadata": {
  "kernelspec": {
   "display_name": "Python 3",
   "language": "python",
   "name": "python3"
  },
  "language_info": {
   "codemirror_mode": {
    "name": "ipython",
    "version": 3
   },
   "file_extension": ".py",
   "mimetype": "text/x-python",
   "name": "python",
   "nbconvert_exporter": "python",
   "pygments_lexer": "ipython3",
   "version": "3.5.1"
  }
 },
 "nbformat": 4,
 "nbformat_minor": 0
}

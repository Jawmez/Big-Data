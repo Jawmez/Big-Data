{
 "cells": [
  {
   "cell_type": "code",
   "execution_count": 164,
   "metadata": {
    "collapsed": false
   },
   "outputs": [],
   "source": [
    "import scipy\n",
    "import numpy as np \n",
    "import matplotlib.pylab as plt \n",
    "% matplotlib inline \n",
    "\n",
    "X = np.array(([3,5], [5,1], [10,2]), dtype=float)\n",
    "y = np.array(([75], [82], [93]), dtype=float)\n",
    "\n",
    "#Because we are predicting a score, this would be a regression set. \n",
    "#If we were predicting a letter grade, this would be a classification set. \n",
    "\n",
    "X = X/np.amax(X, axis=0)\n",
    "y = y/100 #Because max test score is 100\n",
    "\n",
    "#This is the scaling step (Above) "
   ]
  },
  {
   "cell_type": "markdown",
   "metadata": {},
   "source": [
    "In this section, we are creating an artificial neural network. These artificial neural networks work in a similar fashion to the neural networks inside of a brain. Artificial Neural Networks can be used for image classification, natural language processing and Cat classification. These artificial neural networks can complete very complex mathamatical equations to solve very difficult problems. \n",
    "\n",
    "In this section, we also have to scale our data. Neural Networks are not able to recognize that one of our inputs is measured in hours, while the other one is measured on a score from 0 to 100. We can scale our data to create one common varibale counter type.\n",
    "\n",
    "After scaling, we create the neural network structure. In the module, synapses take a value from an input, then multiply it by a specific weight, and output the result. The neurons in the network are responsible for adding all of the synapse values together, and then apply an activation function. Complex activation functions allow neural networks to model complex, nonlinear patterns. \n",
    "\n",
    "We are using the sigmoid activation function in this model. "
   ]
  },
  {
   "cell_type": "code",
   "execution_count": 165,
   "metadata": {
    "collapsed": false
   },
   "outputs": [],
   "source": [
    "class Neural_Network(object):\n",
    "    def __init__(self):\n",
    "        #Define HyperParameters\n",
    "        #Self function makes code assessible to entire class\n",
    "        self.inputLayerSize = 2\n",
    "        self.outputLayerSize = 1\n",
    "        self.hiddenLayerSize = 3\n",
    "        \n",
    "        #Weights (Parameters)\n",
    "        self.W1 = np.random.randn(self.inputLayerSize, \\\n",
    "                                 self.hiddenLayerSize) \n",
    "        self.W2 = np.random.randn(self.hiddenLayerSize, \\\n",
    "                                 self.outputLayerSize)\n",
    "        \n",
    "    def forward(self, X):\n",
    "        #Propagate inputs through network \n",
    "        self.z2 = np.dot(X, self.W1)\n",
    "        self.a2 = self.sigmoid(self.z2)\n",
    "        self.z3 = np.dot(self.a2, self.W2)\n",
    "        yHat = self.sigmoid(self.z3)\n",
    "        return yHat\n",
    "        \n",
    "    def sigmoid(self, z):\n",
    "        #Apply sigmoid activaiton function \n",
    "        return 1/(1+np.exp(-z))\n",
    "    \n",
    "    def sigmoidPrime(self, z):\n",
    "        #Derivative of Sigmoid Function \n",
    "        return np.exp(-z)/((1+np.exp(-z))**2)\n",
    "    \n",
    "    def costFunction(self, X, y):\n",
    "        #Compute cost for given X,y, use weights already stored in class.\n",
    "        self.yHat = self.forward(X)\n",
    "        J = 0.5*sum((y-self.yHat)**2)\n",
    "        return J\n",
    "    \n",
    "    def costFunctionPrime(self, X, y):\n",
    "        #Compute derivative with respect to W1 and W2\n",
    "        self.yHat = self.forward(X)\n",
    "        \n",
    "        delta3 = np.multiply(-(y-self.yHat), self.sigmoidPrime(self.z3))\n",
    "        dJdW2 = np.dot(self.a2.T, delta3)\n",
    "        \n",
    "        delta2 = np.dot(delta3, self.W2.T)*self.sigmoidPrime(self.z2)\n",
    "        dJdW1 = np.dot(X.T, delta2)\n",
    "        \n",
    "        return dJdW1, dJdW2\n",
    "    \n",
    "    #Helps Functions for interacting with other classes\n",
    "    def getParams(self):\n",
    "        #Get W1 and W2 uncrolled into vector \n",
    "        params = np.concatenate((self.W1.ravel(), self.W2.ravel())\n",
    ")\n",
    "        return params\n",
    "    \n",
    "    def setParams(self, params):\n",
    "        #Set W1 and W2 using single parameter vector:\n",
    "        W1_start = 0\n",
    "        W1_end = self.hiddenLayerSize * self.inputLayerSize\n",
    "        self.W1 = np.reshape(params[W1_start:W1_end], \\\n",
    "                             (self.inputLayerSize, self.hiddenLayerSize))\n",
    "        W2_end = W1_end + self.hiddenLayerSize*self.outputLayerSize\n",
    "        self.W2 = np.reshape(params[W1_end:W2_end], \\\n",
    "                             (self.hiddenLayerSize, self.outputLayerSize))\n",
    "        \n",
    "    def computeGradients(self, X, y):\n",
    "        dJdW1, dJdW2 = self.costFunctionPrime(X, y)\n",
    "        return np.concatenate((dJdW1.ravel(), dJdW2.ravel()))\n",
    "        \n",
    "    \n"
   ]
  },
  {
   "cell_type": "code",
   "execution_count": 166,
   "metadata": {
    "collapsed": false
   },
   "outputs": [],
   "source": [
    "def computeNumericalGradient(N, X, y):\n",
    "        paramsInitial = N.getParams()\n",
    "        numgrad = np.zeros(paramsInitial.shape)\n",
    "        perturb = np.zeros(paramsInitial.shape)\n",
    "        e = 1e-4\n",
    "        \n",
    "        for p in range(len(paramsInitial)):\n",
    "            #Set perturbation vector \n",
    "            perturb[p] = e \n",
    "            N.setParams(paramsInitial + perturb)\n",
    "            loss2 = N.costFunction(X,y)\n",
    "            \n",
    "            N.setParams(paramsInitial - perturb)\n",
    "            loss1 = N.costFunction(X, y)\n",
    "            \n",
    "            #Compute Numerical Gradient:\n",
    "            numgrad[p] = (loss2-loss1) / (2*e)\n",
    "            \n",
    "            #Return the value we changed back to zero:\n",
    "            perturb[p] = 0\n",
    "            \n",
    "        #Return Params to original value:\n",
    "        N.setParams(paramsInitial)\n",
    "        \n",
    "        return numgrad"
   ]
  },
  {
   "cell_type": "code",
   "execution_count": 167,
   "metadata": {
    "collapsed": true
   },
   "outputs": [],
   "source": [
    " NN = Neural_Network();"
   ]
  },
  {
   "cell_type": "markdown",
   "metadata": {},
   "source": [
    "This is the Neural Network class. HyperParameters are constants which establish the structure and behavior of our network but are not updated as we create the network. The neural networks are able to learn the parameters though. \n",
    "\n",
    "The Forward function within the network allows us to pass multiple inputs through our hidden layer at a time, using matrices. Our matrix dimention for x is 3 by 2, as we have three data points. Each point contains one value for hours slept and one value for hours spent studying. Our corresponding output data (y) has a dimension of 3 by 1. Three different results with a single output score for each one. \n",
    "\n",
    "Each value within the matrix must be multiplied by a weight and added together again to create an output (for each neuron). To accomplish this, we use matrix multiplication. We must also apply our sigmoid activation fuction to each value within the matrix. After this step is complete, we can add our weights into a nex matrix and pass in a new activation function to get our output, or our y-hat value. \n",
    "\n",
    "We have succesfully created a neural network! Unfortunently, it does not work very well, and its accuracy is quite low. This is because we have not trained our network yet. \n",
    "\n",
    "Inorder to train our data, we first need to figure out how wrong the data is. We can accomplish this by using a cost function. A cost function is computed by taking each error value and squaring them and then adding them all together. An important note to keep in mind is: when someone is saying that they are training a network, they mean that they are minimizing a cost function. We can minimize our cost by chaning our weights. We cannot plug and chug to find an optimal value which yields the lowest cost function. This cannot be done because we have 9 weigths with over 1 billion outcomes. It would take longer than the existance of the universe for the computer to complete this algorithim. Instead, we can use derivatives and partial derivatives to find the slope or rate of change of our function, in terms of our weight matrix. If our derivative is positive, our cost function has an increasing slope. If it is negative, it has a decreasing slope. This method is known as gradient decent. This method saves a very large amount of time with higher amounts of time. "
   ]
  },
  {
   "cell_type": "code",
   "execution_count": 168,
   "metadata": {
    "collapsed": false
   },
   "outputs": [
    {
     "data": {
      "text/plain": [
       "<matplotlib.text.Text at 0x10d09def0>"
      ]
     },
     "execution_count": 168,
     "metadata": {},
     "output_type": "execute_result"
    },
    {
     "data": {
      "image/png": "[encoded data removed]",
      "text/plain": [
       "<matplotlib.figure.Figure at 0x10d0af4e0>"
      ]
     },
     "metadata": {},
     "output_type": "display_data"
    }
   ],
   "source": [
    "import time \n",
    "\n",
    "weightsToTry = np.linspace(-10,10,1000)\n",
    "costs = np.zeros(1000)\n",
    "\n",
    "startTime = time.clock()\n",
    "for i in range(1000):\n",
    "    NN.W1[0,0] = weightsToTry[i]\n",
    "    yHat = NN.forward(X)\n",
    "    costs[i] = 0.5*sum((y-yHat)**2)\n",
    "    \n",
    "endTime = time.clock()\n",
    "\n",
    "plt.plot(weightsToTry, costs)\n",
    "plt.ylabel('Costs')\n",
    "plt.xlabel('Weights')"
   ]
  },
  {
   "cell_type": "markdown",
   "metadata": {},
   "source": [
    "The above graph represents our cost function. We want to find a global minima, or minimum point on the data curve to minimize our cost function. "
   ]
  },
  {
   "cell_type": "code",
   "execution_count": 169,
   "metadata": {
    "collapsed": false
   },
   "outputs": [
    {
     "data": {
      "text/plain": [
       "<matplotlib.legend.Legend at 0x10d612ba8>"
      ]
     },
     "execution_count": 169,
     "metadata": {},
     "output_type": "execute_result"
    },
    {
     "data": {
      "image/png": "[encoded data removed]",
      "text/plain": [
       "<matplotlib.figure.Figure at 0x10d0b4eb8>"
      ]
     },
     "metadata": {},
     "output_type": "display_data"
    }
   ],
   "source": [
    "testValues = np.arange(-5,5,0.01)\n",
    "plt.plot(testValues, NN.sigmoid(testValues), linewidth = 2)\n",
    "plt.plot(testValues, NN.sigmoidPrime(testValues), linewidth=2)\n",
    "plt.grid(1)\n",
    "plt.legend(['sigmoid', 'sigmoidPrime'])"
   ]
  },
  {
   "cell_type": "markdown",
   "metadata": {},
   "source": [
    "This is a a sigmoig graph and its derivative. The derivative graph shows the rate of change of the sigmoid graph. "
   ]
  },
  {
   "cell_type": "code",
   "execution_count": 170,
   "metadata": {
    "collapsed": true
   },
   "outputs": [],
   "source": [
    "cost1 = NN.costFunction(X,y)"
   ]
  },
  {
   "cell_type": "code",
   "execution_count": 171,
   "metadata": {
    "collapsed": false
   },
   "outputs": [],
   "source": [
    "dJdW1, dJdW2 = NN.costFunctionPrime(X,y)"
   ]
  },
  {
   "cell_type": "markdown",
   "metadata": {},
   "source": [
    "The next step is checking for computational errors. We need the check the accuracy of our math in our costFunctionPrime code. We use the power and chain rule to find this derivative. We can check our solution by also finding the derivative using its definiton formula, rise over run. The numerator of the equation gives us the change in y values, and the denominator expresses the change of y values as the limit of h tends towards zero. "
   ]
  },
  {
   "cell_type": "code",
   "execution_count": 172,
   "metadata": {
    "collapsed": false
   },
   "outputs": [
    {
     "data": {
      "text/plain": [
       "array([ 0.00047697,  0.03388065,  0.02361985,  0.00117567,  0.02067798,\n",
       "        0.0185033 , -0.24452547, -0.19626891, -0.08637378])"
      ]
     },
     "execution_count": 172,
     "metadata": {},
     "output_type": "execute_result"
    }
   ],
   "source": [
    "numgrad = computeNumericalGradient(NN, X, y)\n",
    "numgrad"
   ]
  },
  {
   "cell_type": "code",
   "execution_count": 173,
   "metadata": {
    "collapsed": false
   },
   "outputs": [
    {
     "data": {
      "text/plain": [
       "array([ 0.00047697,  0.03388065,  0.02361985,  0.00117567,  0.02067798,\n",
       "        0.0185033 , -0.24452547, -0.19626891, -0.08637378])"
      ]
     },
     "execution_count": 173,
     "metadata": {},
     "output_type": "execute_result"
    }
   ],
   "source": [
    "grad = NN.computeGradients(X, y)\n",
    "grad"
   ]
  },
  {
   "cell_type": "code",
   "execution_count": 174,
   "metadata": {
    "collapsed": false
   },
   "outputs": [
    {
     "data": {
      "text/plain": [
       "6.1569132758512851e-11"
      ]
     },
     "execution_count": 174,
     "metadata": {},
     "output_type": "execute_result"
    }
   ],
   "source": [
    "np.linalg.norm(grad-numgrad)/np.linalg.norm(grad+numgrad)"
   ]
  },
  {
   "cell_type": "markdown",
   "metadata": {},
   "source": [
    "This code normalizes our data to increase the network's accuracy. "
   ]
  },
  {
   "cell_type": "code",
   "execution_count": 175,
   "metadata": {
    "collapsed": false
   },
   "outputs": [],
   "source": [
    "from scipy import optimize "
   ]
  },
  {
   "cell_type": "code",
   "execution_count": 176,
   "metadata": {
    "collapsed": false
   },
   "outputs": [],
   "source": [
    "class trainer(object):\n",
    "    def __init__(self, N):\n",
    "        #Make local references to Neural Network \n",
    "        self.N = N\n",
    "    \n",
    "    def costFunctionWrapper(self, params, X, y):\n",
    "        self.N.setParams(params)\n",
    "        cost = self.N.costFunction(X, y)\n",
    "        grad = self.N.computeGradients(X,y)\n",
    "        return cost, grad\n",
    "    \n",
    "    def callbackF(self, params):\n",
    "        self.N.setParams(params)\n",
    "        self.J.append(self.N.costFunction(self.X, self.y))\n",
    "        \n",
    "    def train(self, X, y):\n",
    "        #Make internal variable for callback function \n",
    "        self.X = X\n",
    "        self.y = y\n",
    "        \n",
    "        #Make empty list to store costs:\n",
    "        self.J = []\n",
    "        \n",
    "        params0 = self.N.getParams()\n",
    "        \n",
    "        options = {'maxiter':200, 'disp' : True}\n",
    "        _res = optimize.minimize(self.costFunctionWrapper, params0, \\\n",
    "                                 jac = True, method = 'BFGS', args = (X,y),\\\n",
    "                                 options=options, callback=self.callbackF)\n",
    "        \n",
    "        self.N.setParams(_res.X)\n",
    "        self.optimizationResults = _res"
   ]
  },
  {
   "cell_type": "markdown",
   "metadata": {},
   "source": [
    "In order to make our predicitons more accurate we need to create a training module. This code trains our classifier to output a reliable output, in relation to the costfunction. This is a reliable method for optimizing and fitting our data. Before we creating a train method, our data was unpredictable. After creating and running the train, our data is more likley to be correctly and accuratly interperated by the network to output an accurate output. "
   ]
  },
  {
   "cell_type": "code",
   "execution_count": 177,
   "metadata": {
    "collapsed": true
   },
   "outputs": [],
   "source": [
    "T = trainer(NN) "
   ]
  },
  {
   "cell_type": "code",
   "execution_count": 178,
   "metadata": {
    "collapsed": false
   },
   "outputs": [
    {
     "name": "stdout",
     "output_type": "stream",
     "text": [
      "Optimization terminated successfully.\n",
      "         Current function value: 0.000000\n",
      "         Iterations: 68\n",
      "         Function evaluations: 96\n",
      "         Gradient evaluations: 95\n"
     ]
    },
    {
     "ename": "AttributeError",
     "evalue": "X",
     "output_type": "error",
     "traceback": [
      "\u001b[0;31m---------------------------------------------------------------------------\u001b[0m",
      "\u001b[0;31mKeyError\u001b[0m                                  Traceback (most recent call last)",
      "\u001b[0;32m/Users/jamesreed/anaconda/lib/python3.5/site-packages/scipy/optimize/optimize.py\u001b[0m in \u001b[0;36m__getattr__\u001b[0;34m(self, name)\u001b[0m\n\u001b[1;32m    109\u001b[0m         \u001b[0;32mtry\u001b[0m\u001b[0;34m:\u001b[0m\u001b[0;34m\u001b[0m\u001b[0m\n\u001b[0;32m--> 110\u001b[0;31m             \u001b[0;32mreturn\u001b[0m \u001b[0mself\u001b[0m\u001b[0;34m[\u001b[0m\u001b[0mname\u001b[0m\u001b[0;34m]\u001b[0m\u001b[0;34m\u001b[0m\u001b[0m\n\u001b[0m\u001b[1;32m    111\u001b[0m         \u001b[0;32mexcept\u001b[0m \u001b[0mKeyError\u001b[0m\u001b[0;34m:\u001b[0m\u001b[0;34m\u001b[0m\u001b[0m\n",
      "\u001b[0;31mKeyError\u001b[0m: 'X'",
      "\nDuring handling of the above exception, another exception occurred:\n",
      "\u001b[0;31mAttributeError\u001b[0m                            Traceback (most recent call last)",
      "\u001b[0;32m<ipython-input-178-21d7f3faf480>\u001b[0m in \u001b[0;36m<module>\u001b[0;34m()\u001b[0m\n\u001b[0;32m----> 1\u001b[0;31m \u001b[0mT\u001b[0m\u001b[0;34m.\u001b[0m\u001b[0mtrain\u001b[0m\u001b[0;34m(\u001b[0m\u001b[0mX\u001b[0m\u001b[0;34m,\u001b[0m \u001b[0my\u001b[0m\u001b[0;34m)\u001b[0m\u001b[0;34m\u001b[0m\u001b[0m\n\u001b[0m",
      "\u001b[0;32m<ipython-input-176-f164330b311d>\u001b[0m in \u001b[0;36mtrain\u001b[0;34m(self, X, y)\u001b[0m\n\u001b[1;32m     27\u001b[0m         \u001b[0m_res\u001b[0m \u001b[0;34m=\u001b[0m \u001b[0moptimize\u001b[0m\u001b[0;34m.\u001b[0m\u001b[0mminimize\u001b[0m\u001b[0;34m(\u001b[0m\u001b[0mself\u001b[0m\u001b[0;34m.\u001b[0m\u001b[0mcostFunctionWrapper\u001b[0m\u001b[0;34m,\u001b[0m \u001b[0mparams0\u001b[0m\u001b[0;34m,\u001b[0m                                  \u001b[0mjac\u001b[0m \u001b[0;34m=\u001b[0m \u001b[0;32mTrue\u001b[0m\u001b[0;34m,\u001b[0m \u001b[0mmethod\u001b[0m \u001b[0;34m=\u001b[0m \u001b[0;34m'BFGS'\u001b[0m\u001b[0;34m,\u001b[0m \u001b[0margs\u001b[0m \u001b[0;34m=\u001b[0m \u001b[0;34m(\u001b[0m\u001b[0mX\u001b[0m\u001b[0;34m,\u001b[0m\u001b[0my\u001b[0m\u001b[0;34m)\u001b[0m\u001b[0;34m,\u001b[0m                                 \u001b[0moptions\u001b[0m\u001b[0;34m=\u001b[0m\u001b[0moptions\u001b[0m\u001b[0;34m,\u001b[0m \u001b[0mcallback\u001b[0m\u001b[0;34m=\u001b[0m\u001b[0mself\u001b[0m\u001b[0;34m.\u001b[0m\u001b[0mcallbackF\u001b[0m\u001b[0;34m)\u001b[0m\u001b[0;34m\u001b[0m\u001b[0m\n\u001b[1;32m     28\u001b[0m \u001b[0;34m\u001b[0m\u001b[0m\n\u001b[0;32m---> 29\u001b[0;31m         \u001b[0mself\u001b[0m\u001b[0;34m.\u001b[0m\u001b[0mN\u001b[0m\u001b[0;34m.\u001b[0m\u001b[0msetParams\u001b[0m\u001b[0;34m(\u001b[0m\u001b[0m_res\u001b[0m\u001b[0;34m.\u001b[0m\u001b[0mX\u001b[0m\u001b[0;34m)\u001b[0m\u001b[0;34m\u001b[0m\u001b[0m\n\u001b[0m\u001b[1;32m     30\u001b[0m         \u001b[0mself\u001b[0m\u001b[0;34m.\u001b[0m\u001b[0moptimizationResults\u001b[0m \u001b[0;34m=\u001b[0m \u001b[0m_res\u001b[0m\u001b[0;34m\u001b[0m\u001b[0m\n",
      "\u001b[0;32m/Users/jamesreed/anaconda/lib/python3.5/site-packages/scipy/optimize/optimize.py\u001b[0m in \u001b[0;36m__getattr__\u001b[0;34m(self, name)\u001b[0m\n\u001b[1;32m    110\u001b[0m             \u001b[0;32mreturn\u001b[0m \u001b[0mself\u001b[0m\u001b[0;34m[\u001b[0m\u001b[0mname\u001b[0m\u001b[0;34m]\u001b[0m\u001b[0;34m\u001b[0m\u001b[0m\n\u001b[1;32m    111\u001b[0m         \u001b[0;32mexcept\u001b[0m \u001b[0mKeyError\u001b[0m\u001b[0;34m:\u001b[0m\u001b[0;34m\u001b[0m\u001b[0m\n\u001b[0;32m--> 112\u001b[0;31m             \u001b[0;32mraise\u001b[0m \u001b[0mAttributeError\u001b[0m\u001b[0;34m(\u001b[0m\u001b[0mname\u001b[0m\u001b[0;34m)\u001b[0m\u001b[0;34m\u001b[0m\u001b[0m\n\u001b[0m\u001b[1;32m    113\u001b[0m \u001b[0;34m\u001b[0m\u001b[0m\n\u001b[1;32m    114\u001b[0m     \u001b[0m__setattr__\u001b[0m \u001b[0;34m=\u001b[0m \u001b[0mdict\u001b[0m\u001b[0;34m.\u001b[0m\u001b[0m__setitem__\u001b[0m\u001b[0;34m\u001b[0m\u001b[0m\n",
      "\u001b[0;31mAttributeError\u001b[0m: X"
     ]
    }
   ],
   "source": [
    "T.train(X, y)"
   ]
  },
  {
   "cell_type": "code",
   "execution_count": 179,
   "metadata": {
    "collapsed": false
   },
   "outputs": [
    {
     "data": {
      "text/plain": [
       "<matplotlib.text.Text at 0x10cf092b0>"
      ]
     },
     "execution_count": 179,
     "metadata": {},
     "output_type": "execute_result"
    },
    {
     "data": {
      "image/png": "[encoded data removed]",
      "text/plain": [
       "<matplotlib.figure.Figure at 0x10d0b4dd8>"
      ]
     },
     "metadata": {},
     "output_type": "display_data"
    }
   ],
   "source": [
    "plt.plot(T.J)\n",
    "plt.grid(1)\n",
    "plt.ylabel('Cost')\n",
    "plt.xlabel('Iterations')"
   ]
  },
  {
   "cell_type": "code",
   "execution_count": 180,
   "metadata": {
    "collapsed": false
   },
   "outputs": [
    {
     "data": {
      "text/plain": [
       "(array([[  2.09566125e-08,  -3.95503484e-07,   1.99340137e-06],\n",
       "        [  8.84919437e-09,  -1.70282903e-07,   1.26516913e-06]]),\n",
       " array([[ -1.64374015e-06],\n",
       "        [ -2.20477610e-06],\n",
       "        [ -3.80065927e-07]]))"
      ]
     },
     "execution_count": 180,
     "metadata": {},
     "output_type": "execute_result"
    }
   ],
   "source": [
    "NN.costFunctionPrime(X,y)"
   ]
  },
  {
   "cell_type": "code",
   "execution_count": 181,
   "metadata": {
    "collapsed": false
   },
   "outputs": [
    {
     "data": {
      "text/plain": [
       "array([[ 0.74999803],\n",
       "       [ 0.81996946],\n",
       "       [ 0.93003608]])"
      ]
     },
     "execution_count": 181,
     "metadata": {},
     "output_type": "execute_result"
    }
   ],
   "source": [
    "NN.forward(X)"
   ]
  },
  {
   "cell_type": "code",
   "execution_count": 182,
   "metadata": {
    "collapsed": false
   },
   "outputs": [],
   "source": [
    "#Test network for various combinations of sleep/study:\n",
    "hoursSleep = np.linspace(0, 10, 100)\n",
    "hoursStudy = np.linspace(0, 5, 100)\n",
    "\n",
    "#Normalize data (same way training data way normalized)\n",
    "hoursSleepNorm = hoursSleep/10.\n",
    "hoursStudyNorm = hoursStudy/5.\n",
    "\n",
    "#Create 2-d versions of input for plotting\n",
    "a, b  = plt.meshgrid(hoursSleepNorm, hoursStudyNorm)\n",
    "\n",
    "#Join into a single input matrix:\n",
    "allInputs = np.zeros((a.size, 2))\n",
    "allInputs[:, 0] = a.ravel()\n",
    "allInputs[:, 1] = b.ravel()\n"
   ]
  },
  {
   "cell_type": "code",
   "execution_count": 183,
   "metadata": {
    "collapsed": true
   },
   "outputs": [],
   "source": [
    "allOutputs = NN.forward(allInputs)"
   ]
  },
  {
   "cell_type": "code",
   "execution_count": 184,
   "metadata": {
    "collapsed": false
   },
   "outputs": [
    {
     "data": {
      "text/plain": [
       "<matplotlib.text.Text at 0x10bd7bf28>"
      ]
     },
     "execution_count": 184,
     "metadata": {},
     "output_type": "execute_result"
    },
    {
     "data": {
      "image/png": "[encoded data removed]",
      "text/plain": [
       "<matplotlib.figure.Figure at 0x10d64cbe0>"
      ]
     },
     "metadata": {},
     "output_type": "display_data"
    }
   ],
   "source": [
    "#Contour Plot:\n",
    "yy = np.dot(hoursStudy.reshape(100,1), np.ones((1,100)))\n",
    "xx = np.dot(hoursSleep.reshape(100,1), np.ones((1,100))).T\n",
    "\n",
    "CS = plt.contour(xx,yy,100*allOutputs.reshape(100, 100))\n",
    "plt.clabel(CS, inline=1, fontsize=10)\n",
    "plt.xlabel('Hours Sleep')\n",
    "plt.ylabel('Hours Study')"
   ]
  },
  {
   "cell_type": "markdown",
   "metadata": {},
   "source": [
    "This shows the ranges of Hours studied and hours slept and the corresponding test scores predicted by the algorithm.  "
   ]
  },
  {
   "cell_type": "code",
   "execution_count": 185,
   "metadata": {
    "collapsed": false
   },
   "outputs": [
    {
     "data": {
      "text/plain": [
       "<matplotlib.text.Text at 0x10d9b3550>"
      ]
     },
     "execution_count": 185,
     "metadata": {},
     "output_type": "execute_result"
    },
    {
     "data": {
      "image/png": "[encoded data removed]",
      "text/plain": [
       "<matplotlib.figure.Figure at 0x10d9a09e8>"
      ]
     },
     "metadata": {},
     "output_type": "display_data"
    }
   ],
   "source": [
    "#3D plot:\n",
    "\n",
    "##Uncomment to plot out-of-notebook (you'll be able to rotate)\n",
    "#%matplotlib qt\n",
    "\n",
    "from mpl_toolkits.mplot3d import Axes3D\n",
    "fig = plt.figure()\n",
    "ax = fig.gca(projection='3d')\n",
    "\n",
    "surf = ax.plot_surface(xx, yy, 100*allOutputs.reshape(100, 100), \\\n",
    "                       cmap=plt.cm.jet)\n",
    "\n",
    "ax.set_xlabel('Hours Sleep')\n",
    "ax.set_ylabel('Hours Study')\n",
    "ax.set_zlabel('Test Score')"
   ]
  },
  {
   "cell_type": "markdown",
   "metadata": {},
   "source": [
    "This is a 3D representation of our data. The three demension shows that our predictions are quite accurate (appears linear in a 3 demensional sense). "
   ]
  },
  {
   "cell_type": "code",
   "execution_count": 191,
   "metadata": {
    "collapsed": false
   },
   "outputs": [
    {
     "data": {
      "text/plain": [
       "array([ 0.7463409])"
      ]
     },
     "execution_count": 191,
     "metadata": {},
     "output_type": "execute_result"
    }
   ],
   "source": [
    "NN.forward([0,4])"
   ]
  },
  {
   "cell_type": "code",
   "execution_count": 192,
   "metadata": {
    "collapsed": false
   },
   "outputs": [
    {
     "data": {
      "text/plain": [
       "array([ 0.9400161])"
      ]
     },
     "execution_count": 192,
     "metadata": {},
     "output_type": "execute_result"
    }
   ],
   "source": [
    "NN.forward([1,2])"
   ]
  },
  {
   "cell_type": "markdown",
   "metadata": {},
   "source": [
    "We can now use the forward function to predict a future test score. In conclusion, I found that sleep hours are much more important than study hours. Extra sleep and less studying yields higher test resuts than more studying and less sleep. Inorder to deal with outliers in the data, we can overfit our neural network in the future to make its predictions more accurate. "
   ]
  }
 ],
 "metadata": {
  "kernelspec": {
   "display_name": "Python 3",
   "language": "python",
   "name": "python3"
  },
  "language_info": {
   "codemirror_mode": {
    "name": "ipython",
    "version": 3
   },
   "file_extension": ".py",
   "mimetype": "text/x-python",
   "name": "python",
   "nbconvert_exporter": "python",
   "pygments_lexer": "ipython3",
   "version": "3.5.1"
  }
 },
 "nbformat": 4,
 "nbformat_minor": 0
}

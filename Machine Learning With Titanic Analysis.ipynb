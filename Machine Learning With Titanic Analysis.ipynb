{
 "cells": [
  {
   "cell_type": "code",
   "execution_count": 2,
   "metadata": {
    "collapsed": false
   },
   "outputs": [
    {
     "name": "stdout",
     "output_type": "stream",
     "text": [
      "(2201, 4)\n",
      "[[ 1.  1.  1.]\n",
      " [ 1.  1.  1.]\n",
      " [ 1.  1.  1.]\n",
      " ..., \n",
      " [ 0.  1.  0.]\n",
      " [ 0.  1.  0.]\n",
      " [ 0.  1.  0.]]\n",
      "[ 1.  1.  1. ...,  0.  0.  0.]\n"
     ]
    }
   ],
   "source": [
    "#code to import a csv and convert it to a numpy array\n",
    "#import the numpy library\n",
    "import numpy as np\n",
    "#open the file\n",
    "raw_data = open(\"titanic.csv\")\n",
    "# load the CSV file as a numpy matrix\n",
    "\n",
    "dataset = np.loadtxt(raw_data, delimiter=\",\")\n",
    "#'shape' is the dimensions of the matrix\n",
    "print(dataset.shape)\n",
    "\n",
    "# separate the data from the target attributes\n",
    "X = dataset[:,0:3]\n",
    "y = dataset[:,3]\n",
    "print(X)\n",
    "print(y)\n"
   ]
  },
  {
   "cell_type": "code",
   "execution_count": 3,
   "metadata": {
    "collapsed": false
   },
   "outputs": [
    {
     "name": "stdout",
     "output_type": "stream",
     "text": [
      "79.07356948228883\n",
      "73.13351498637601\n",
      "78.99182561307902\n"
     ]
    }
   ],
   "source": [
    "from sklearn import datasets\n",
    "import random\n",
    "import statistics\n",
    "\n",
    "from sklearn.cross_validation import train_test_split\n",
    "tree_list = []\n",
    "neighbors_list = []\n",
    "ensemble_list = []\n",
    "\n",
    "counter = 0 \n",
    "\n",
    "while counter < 10:\n",
    "    \n",
    "    X_train, X_test, y_train, y_test = train_test_split(X, y, test_size = .5)\n",
    "\n",
    "    from sklearn import tree\n",
    "    tree_classifier = tree.DecisionTreeClassifier();\n",
    "    tree_classifier = tree_classifier.fit(X_train, y_train)\n",
    "    tree_predictions = tree_classifier.predict(X_test)\n",
    "\n",
    "    from sklearn.metrics import accuracy_score\n",
    "    percent = (accuracy_score(tree_predictions, y_test))\n",
    "    #print(percent)\n",
    "    new_per = float(100*percent)\n",
    "    tree_list.append(new_per)\n",
    "    #print(str(new_per)+\"%\")\n",
    "\n",
    "    from sklearn import neighbors\n",
    "    knn_classifier = neighbors.KNeighborsClassifier()\n",
    "    knn_classifier = knn_classifier.fit(X_train, y_train)\n",
    "    knn_predictions = knn_classifier.predict(X_test)\n",
    "\n",
    "    from sklearn.metrics import accuracy_score\n",
    "    percent_two = (accuracy_score(knn_predictions, y_test))\n",
    "    #print(percent_two)\n",
    "    new_per_two = float(100*percent_two)\n",
    "    neighbors_list.append(new_per_two); \n",
    "    #print(str(new_per_two)+\"%\")\n",
    "\n",
    "    from sklearn import ensemble\n",
    "    rf_classifier = ensemble.RandomForestClassifier()\n",
    "    rf_classifier = rf_classifier.fit(X_train, y_train)\n",
    "    rf_predictions = rf_classifier.predict(X_test)\n",
    "\n",
    "    from sklearn.metrics import accuracy_score\n",
    "    percent_three = (accuracy_score(rf_predictions, y_test))\n",
    "    #print(percent_three)\n",
    "    new_per_three = float(100*percent_three)\n",
    "    ensemble_list.append(new_per_three)\n",
    "    #print(str(new_per_three)+\"%\")\n",
    "    \n",
    "    counter = counter + 1\n",
    "\n",
    "print(statistics.mean(tree_list)); \n",
    "print(statistics.mean(neighbors_list));\n",
    "print(statistics.mean(ensemble_list)); \n",
    "\n"
   ]
  },
  {
   "cell_type": "markdown",
   "metadata": {},
   "source": [
    "After running each training module ten times, with unique values, I concluded that each test had an accuracy score of around 70% to 80%. After running this section multiple times, I found that both the Random Forest and Tree methods are more accurate than the Neighbors method. Neighbors typically returned an accuracy score in the low 70%s. Both Random Forest and Three ran an accuracy score in the upper 70%s. These two results where very identical. I decided to use Random Forest for my main method of prediction. I chose random forest over tree because Random Forest uses multiple algorithims, training sets and prediction codes (hence forest), while the tree module only has access to one. "
   ]
  },
  {
   "cell_type": "code",
   "execution_count": 4,
   "metadata": {
    "collapsed": false
   },
   "outputs": [
    {
     "name": "stdout",
     "output_type": "stream",
     "text": [
      "Printing results for an adult male in lower class...\n",
      "This person most likley died.\n"
     ]
    }
   ],
   "source": [
    "from sklearn import ensemble\n",
    "rf_classifier = ensemble.RandomForestClassifier()\n",
    "rf_classifier = rf_classifier.fit(X_train, y_train)\n",
    "rf_predictions = rf_classifier.predict([[3,1,1]])\n",
    "#print(rf_predictions);\n",
    "print(\"Printing results for an adult male in lower class...\")\n",
    "if str(rf_predictions) == \"[ 1.]\":\n",
    "    print(\"This person most likley survived.\");\n",
    "else:\n",
    "    print(\"This person most likley died.\")"
   ]
  },
  {
   "cell_type": "code",
   "execution_count": 5,
   "metadata": {
    "collapsed": false
   },
   "outputs": [
    {
     "name": "stdout",
     "output_type": "stream",
     "text": [
      "Printing results for an adult female in first class...\n",
      "This person most likley survived.\n"
     ]
    }
   ],
   "source": [
    "from sklearn import ensemble\n",
    "rf_classifier = ensemble.RandomForestClassifier()\n",
    "rf_classifier = rf_classifier.fit(X_train, y_train)\n",
    "rf_predictions = rf_classifier.predict([[1,1,0]])\n",
    "#print(rf_predictions);\n",
    "print(\"Printing results for an adult female in first class...\")\n",
    "if str(rf_predictions) == \"[ 1.]\":\n",
    "    print(\"This person most likley survived.\");\n",
    "else:\n",
    "    print(\"This person most likley died.\")"
   ]
  },
  {
   "cell_type": "code",
   "execution_count": 6,
   "metadata": {
    "collapsed": false
   },
   "outputs": [
    {
     "name": "stdout",
     "output_type": "stream",
     "text": [
      "Printing results for a female child in first class...\n",
      "This person most likley survived.\n"
     ]
    }
   ],
   "source": [
    "from sklearn import ensemble\n",
    "rf_classifier = ensemble.RandomForestClassifier()\n",
    "rf_classifier = rf_classifier.fit(X_train, y_train)\n",
    "rf_predictions = rf_classifier.predict([[1,0,0]])\n",
    "#print(rf_predictions);\n",
    "print(\"Printing results for a female child in first class...\")\n",
    "if str(rf_predictions) == \"[ 1.]\":\n",
    "    print(\"This person most likley survived.\");\n",
    "else:\n",
    "    print(\"This person most likley died.\")"
   ]
  },
  {
   "cell_type": "markdown",
   "metadata": {},
   "source": [
    "After running my experiment, I conducted some research on who was saved first on the titanic. I found that Women and children where saved before men. I also found that people in first class where often evacuated before the people in middle and lower class. "
   ]
  },
  {
   "cell_type": "code",
   "execution_count": 35,
   "metadata": {
    "collapsed": false
   },
   "outputs": [
    {
     "name": "stdout",
     "output_type": "stream",
     "text": [
      "(2201, 4)\n",
      "Printing results for an adult in first class...\n",
      "This person most likley survived.\n",
      "Printing results for a child in first class...\n",
      "This person most likley survived.\n",
      "Printing results for an adult in middle class...\n",
      "This person most likley died.\n",
      "Printing results for a child in middle class...\n",
      "This person most likley survived.\n",
      "Printing results for an adult in lower class...\n",
      "This person most likley died.\n",
      "Printing results for a child in lower class...\n",
      "This person most likley survived.\n",
      "0.77565849228\n"
     ]
    }
   ],
   "source": [
    "raw_data = open(\"titanic.csv\")\n",
    "\n",
    "dataset_two = np.loadtxt(raw_data, delimiter=\",\")\n",
    "print(dataset_two.shape)\n",
    "\n",
    "X_train = dataset_two[:,0:2]\n",
    "y_train = dataset_two[:,3]\n",
    "\n",
    "from sklearn import ensemble\n",
    "rf_classifier = ensemble.RandomForestClassifier()\n",
    "rf_classifier = rf_classifier.fit(X_train, y_train)\n",
    "rf_predictions = rf_classifier.predict([[1,1]])\n",
    "#print(rf_predictions);\n",
    "print(\"Printing results for an adult in first class...\")\n",
    "if str(rf_predictions) == \"[ 1.]\":\n",
    "    print(\"This person most likley survived.\");\n",
    "else:\n",
    "    print(\"This person most likley died.\")\n",
    "     \n",
    "from sklearn import ensemble\n",
    "rf_classifier = ensemble.RandomForestClassifier()\n",
    "rf_classifier = rf_classifier.fit(X, y)\n",
    "rf_predictions = rf_classifier.predict([[1,0]])\n",
    "#print(rf_predictions);\n",
    "print(\"Printing results for a child in first class...\")\n",
    "if str(rf_predictions) == \"[ 1.]\":\n",
    "    print(\"This person most likley survived.\");\n",
    "else:\n",
    "    print(\"This person most likley died.\")\n",
    "\n",
    "from sklearn import ensemble\n",
    "rf_classifier = ensemble.RandomForestClassifier()\n",
    "rf_classifier = rf_classifier.fit(X, y)\n",
    "rf_predictions = rf_classifier.predict([[2,1]])\n",
    "#print(rf_predictions);\n",
    "print(\"Printing results for an adult in middle class...\")\n",
    "if str(rf_predictions) == \"[ 1.]\":\n",
    "    print(\"This person most likley survived.\");\n",
    "else:\n",
    "    print(\"This person most likley died.\")\n",
    "\n",
    "from sklearn import ensemble\n",
    "rf_classifier = ensemble.RandomForestClassifier()\n",
    "rf_classifier = rf_classifier.fit(X, y)\n",
    "rf_predictions = rf_classifier.predict([[2,0]])\n",
    "#print(rf_predictions);\n",
    "print(\"Printing results for a child in middle class...\")\n",
    "if str(rf_predictions) == \"[ 1.]\":\n",
    "    print(\"This person most likley survived.\");\n",
    "else:\n",
    "    print(\"This person most likley died.\")\n",
    "\n",
    "from sklearn import ensemble\n",
    "rf_classifier = ensemble.RandomForestClassifier()\n",
    "rf_classifier = rf_classifier.fit(X, y)\n",
    "rf_predictions = rf_classifier.predict([[3,1]])\n",
    "#print(rf_predictions);\n",
    "print(\"Printing results for an adult in lower class...\")\n",
    "if str(rf_predictions) == \"[ 1.]\":\n",
    "    print(\"This person most likley survived.\");\n",
    "else:\n",
    "    print(\"This person most likley died.\")\n",
    "\n",
    "from sklearn import ensemble\n",
    "rf_classifier = ensemble.RandomForestClassifier()\n",
    "rf_classifier = rf_classifier.fit(X, y)\n",
    "rf_predictions = rf_classifier.predict([[3,0]])\n",
    "#print(rf_predictions);\n",
    "print(\"Printing results for a child in lower class...\")\n",
    "if str(rf_predictions) == \"[ 1.]\":\n",
    "    print(\"This person most likley survived.\");\n",
    "else:\n",
    "    print(\"This person most likley died.\")\n",
    "\n",
    "#from sklearn import ensemble\n",
    "\n",
    "X_train, X_test, y_train, y_test = train_test_split(X, y, test_size = .5)\n",
    "\n",
    "from sklearn import ensemble\n",
    "rf_classifier = ensemble.RandomForestClassifier()\n",
    "rf_classifier = rf_classifier.fit(X_train, y_train)\n",
    "rf_predictions = rf_classifier.predict(X_test)\n",
    "\n",
    "from sklearn.metrics import accuracy_score\n",
    "test = (accuracy_score(rf_predictions, y_test))\n",
    "print(test)\n"
   ]
  },
  {
   "cell_type": "markdown",
   "metadata": {},
   "source": [
    "In this section, I analyzed age and class. These results indicate that adults and children in first class where likley to survive. The data also reveals that children in every class had a higher chance of surviving than adults in all classes. "
   ]
  },
  {
   "cell_type": "code",
   "execution_count": 36,
   "metadata": {
    "collapsed": false
   },
   "outputs": [
    {
     "name": "stdout",
     "output_type": "stream",
     "text": [
      "(2201, 4)\n",
      "Printing results for an adult male\n",
      "This person most likley died.\n",
      "Printing results for an adult female...\n",
      "This person most likley survived.\n",
      "Printing results for a male child...\n",
      "This person most likley died.\n",
      "Printing results for a female child...\n",
      "This person most likley survived.\n",
      "0.764759309718\n"
     ]
    }
   ],
   "source": [
    "raw_data = open(\"titanic.csv\")\n",
    "\n",
    "dataset_three = np.loadtxt(raw_data, delimiter=\",\")\n",
    "print(dataset_three.shape)\n",
    "\n",
    "X = dataset_three[:,1:3]\n",
    "y = dataset_three[:,3]\n",
    "#print(X)\n",
    "#print(y)\n",
    "\n",
    "from sklearn import ensemble\n",
    "rf_classifier = ensemble.RandomForestClassifier()\n",
    "rf_classifier = rf_classifier.fit(X, y)\n",
    "rf_predictions = rf_classifier.predict([[1,1]])\n",
    "#print(rf_predictions);\n",
    "print(\"Printing results for an adult male\")\n",
    "if str(rf_predictions) == \"[ 1.]\":\n",
    "    print(\"This person most likley survived.\");\n",
    "else:\n",
    "    print(\"This person most likley died.\")\n",
    "     \n",
    "from sklearn import ensemble\n",
    "rf_classifier = ensemble.RandomForestClassifier()\n",
    "rf_classifier = rf_classifier.fit(X, y)\n",
    "rf_predictions = rf_classifier.predict([[1,0]])\n",
    "#print(rf_predictions);\n",
    "print(\"Printing results for an adult female...\")\n",
    "if str(rf_predictions) == \"[ 1.]\":\n",
    "    print(\"This person most likley survived.\");\n",
    "else:\n",
    "    print(\"This person most likley died.\")\n",
    "\n",
    "from sklearn import ensemble\n",
    "rf_classifier = ensemble.RandomForestClassifier()\n",
    "rf_classifier = rf_classifier.fit(X, y)\n",
    "rf_predictions = rf_classifier.predict([[0,1]])\n",
    "#print(rf_predictions);\n",
    "print(\"Printing results for a male child...\")\n",
    "if str(rf_predictions) == \"[ 1.]\":\n",
    "    print(\"This person most likley survived.\");\n",
    "else:\n",
    "    print(\"This person most likley died.\")\n",
    "    \n",
    "\n",
    "from sklearn import ensemble\n",
    "rf_classifier = ensemble.RandomForestClassifier()\n",
    "rf_classifier = rf_classifier.fit(X, y)\n",
    "rf_predictions = rf_classifier.predict([[0,0]])\n",
    "#print(rf_predictions);\n",
    "print(\"Printing results for a female child...\")\n",
    "if str(rf_predictions) == \"[ 1.]\":\n",
    "    print(\"This person most likley survived.\");\n",
    "else:\n",
    "    print(\"This person most likley died.\")\n",
    "\n",
    "X_train, X_test, y_train, y_test = train_test_split(X, y, test_size = .5)\n",
    "\n",
    "from sklearn import ensemble\n",
    "rf_classifier = ensemble.RandomForestClassifier()\n",
    "rf_classifier = rf_classifier.fit(X_train, y_train)\n",
    "rf_predictions = rf_classifier.predict(X_test)\n",
    "\n",
    "from sklearn.metrics import accuracy_score\n",
    "test = (accuracy_score(rf_predictions, y_test))\n",
    "\n",
    "print(test)"
   ]
  },
  {
   "cell_type": "markdown",
   "metadata": {},
   "source": [
    "This tested results between age and gender. I found that in this set, all men where predicted to die and all women where predicted to survive. After analyzing the first section, I am noticing the strong correlation between gender and survival. "
   ]
  },
  {
   "cell_type": "code",
   "execution_count": 39,
   "metadata": {
    "collapsed": false
   },
   "outputs": [
    {
     "name": "stdout",
     "output_type": "stream",
     "text": [
      "(2201, 3)\n",
      "Printing results for a female crew member...\n",
      "This person most likley survived.\n",
      "Printing results for a male crew member...\n",
      "This person most likley died.\n",
      "Printing results for first class female...\n",
      "This person most likley survived.\n",
      "Printing results for a first class male...\n",
      "This person most likley died.\n",
      "Printing results for female in middle class...\n",
      "This person most likley survived.\n",
      "Printing results for a male in middle class ...\n",
      "This person most likley died.\n",
      "Printing results for a female in lower class ...\n",
      "This person most likley survived.\n",
      "Printing results for a male in lower class ...\n",
      "This person most likley died.\n",
      "0.77838328792\n"
     ]
    }
   ],
   "source": [
    "raw_data = open(\"titanicmid.csv\")\n",
    "\n",
    "dataset_four = np.loadtxt(raw_data, delimiter=\",\")\n",
    "print(dataset_four.shape)\n",
    "\n",
    "X_train = dataset_four[:,0:2]\n",
    "y_train = dataset_four[:,2]\n",
    "\n",
    "from sklearn import ensemble\n",
    "rf_classifier = ensemble.RandomForestClassifier()\n",
    "rf_classifier = rf_classifier.fit(X_train, y_train)\n",
    "rf_predictions = rf_classifier.predict([[0,0]])\n",
    "#print(rf_predictions);\n",
    "print(\"Printing results for a female crew member...\")\n",
    "if str(rf_predictions) == \"[ 1.]\":\n",
    "    print(\"This person most likley survived.\");\n",
    "else:\n",
    "    print(\"This person most likley died.\")\n",
    "     \n",
    "from sklearn import ensemble\n",
    "rf_classifier = ensemble.RandomForestClassifier()\n",
    "rf_classifier = rf_classifier.fit(X, y)\n",
    "rf_predictions = rf_classifier.predict([[0,1]])\n",
    "#print(rf_predictions);\n",
    "print(\"Printing results for a male crew member...\")\n",
    "if str(rf_predictions) == \"[ 1.]\":\n",
    "    print(\"This person most likley survived.\");\n",
    "else:\n",
    "    print(\"This person most likley died.\")\n",
    "\n",
    "from sklearn import ensemble\n",
    "rf_classifier = ensemble.RandomForestClassifier()\n",
    "rf_classifier = rf_classifier.fit(X, y)\n",
    "rf_predictions = rf_classifier.predict([[1,0]])\n",
    "#print(rf_predictions);\n",
    "print(\"Printing results for first class female...\")\n",
    "if str(rf_predictions) == \"[ 1.]\":\n",
    "    print(\"This person most likley survived.\");\n",
    "else:\n",
    "    print(\"This person most likley died.\")\n",
    "\n",
    "from sklearn import ensemble\n",
    "rf_classifier = ensemble.RandomForestClassifier()\n",
    "rf_classifier = rf_classifier.fit(X, y)\n",
    "rf_predictions = rf_classifier.predict([[1,1]])\n",
    "#print(rf_predictions);\n",
    "print(\"Printing results for a first class male...\")\n",
    "if str(rf_predictions) == \"[ 1.]\":\n",
    "    print(\"This person most likley survived.\");\n",
    "else:\n",
    "    print(\"This person most likley died.\")\n",
    "\n",
    "from sklearn import ensemble\n",
    "rf_classifier = ensemble.RandomForestClassifier()\n",
    "rf_classifier = rf_classifier.fit(X, y)\n",
    "rf_predictions = rf_classifier.predict([[2,0]])\n",
    "#print(rf_predictions);\n",
    "print(\"Printing results for female in middle class...\")\n",
    "if str(rf_predictions) == \"[ 1.]\":\n",
    "    print(\"This person most likley survived.\");\n",
    "else:\n",
    "    print(\"This person most likley died.\")\n",
    "\n",
    "from sklearn import ensemble\n",
    "rf_classifier = ensemble.RandomForestClassifier()\n",
    "rf_classifier = rf_classifier.fit(X, y)\n",
    "rf_predictions = rf_classifier.predict([[2,1]])\n",
    "#print(rf_predictions);\n",
    "print(\"Printing results for a male in middle class ...\")\n",
    "if str(rf_predictions) == \"[ 1.]\":\n",
    "    print(\"This person most likley survived.\");\n",
    "else:\n",
    "    print(\"This person most likley died.\")\n",
    "\n",
    "from sklearn import ensemble\n",
    "rf_classifier = ensemble.RandomForestClassifier()\n",
    "rf_classifier = rf_classifier.fit(X, y)\n",
    "rf_predictions = rf_classifier.predict([[3,0]])\n",
    "#print(rf_predictions);\n",
    "print(\"Printing results for a female in lower class ...\")\n",
    "if str(rf_predictions) == \"[ 1.]\":\n",
    "    print(\"This person most likley survived.\");\n",
    "else:\n",
    "    print(\"This person most likley died.\")\n",
    "\n",
    "from sklearn import ensemble\n",
    "rf_classifier = ensemble.RandomForestClassifier()\n",
    "rf_classifier = rf_classifier.fit(X, y)\n",
    "rf_predictions = rf_classifier.predict([[3,1]])\n",
    "#print(rf_predictions);\n",
    "print(\"Printing results for a male in lower class ...\")\n",
    "if str(rf_predictions) == \"[ 1.]\":\n",
    "    print(\"This person most likley survived.\");\n",
    "else:\n",
    "    print(\"This person most likley died.\")\n",
    "\n",
    "#from sklearn import ensemble\n",
    "\n",
    "X_train, X_test, y_train, y_test = train_test_split(X, y, test_size = .5)\n",
    "\n",
    "from sklearn import ensemble\n",
    "rf_classifier = ensemble.RandomForestClassifier()\n",
    "rf_classifier = rf_classifier.fit(X_train, y_train)\n",
    "rf_predictions = rf_classifier.predict(X_test)\n",
    "\n",
    "from sklearn.metrics import accuracy_score\n",
    "test = (accuracy_score(rf_predictions, y_test))\n",
    "print(test)"
   ]
  },
  {
   "cell_type": "markdown",
   "metadata": {},
   "source": [
    "This final section looks at class and gender. This final section showed the notable importance of gender for determining survival. These results show that all females, regardless of there status as crew or class, where predicted to survive on the titanic. The data shows that regardless of crew position or class, all males where predicted to die. In conclusion for this section, I found that gender was the biggest determining factor in predicting whether someone on board the titanic would survive or not. "
   ]
  },
  {
   "cell_type": "markdown",
   "metadata": {},
   "source": [
    "In conclusion, I found that there are many ways to predict an outcome of an event using certain variables. I am curious to learn how the computer sorts data and determines an outcome. I am still unsure on the process of testing a sample's accuracy score when one line (varibale) is removed from the test data. I got many index mismatch errors. Because I was confused by the accuracy scores in this section, I also ran each possible outcome for each section when one variable was removed. From these outcomes, I was able to find and identify trends in data. \n",
    "\n",
    "In this project, I learned how to use pre-programmed machine learning to calculate the outcome of an event. I also learned how to take an apply an accuracy score to a data set to determine the accuracy of the machine prediction. While there are many public prediction methods available for use, there are cases where a specific model may be better than another model. It is important to check the prediciton accuracy or each model before choosing the appropriate machine learning method to use.  \n",
    "\n",
    "Within the project, I was suprised that gender was the most determining factor in predicting whether or not a passanger survived. I had initially thought that children would have the highest survival rate amongst the passangers. This hypothesis was disproved in my variable tests, where I found that male children where predicted to die while female children where predicted to survive. "
   ]
  },
  {
   "cell_type": "code",
   "execution_count": null,
   "metadata": {
    "collapsed": true
   },
   "outputs": [],
   "source": []
  }
 ],
 "metadata": {
  "kernelspec": {
   "display_name": "Python 3",
   "language": "python",
   "name": "python3"
  },
  "language_info": {
   "codemirror_mode": {
    "name": "ipython",
    "version": 3
   },
   "file_extension": ".py",
   "mimetype": "text/x-python",
   "name": "python",
   "nbconvert_exporter": "python",
   "pygments_lexer": "ipython3",
   "version": "3.5.1"
  }
 },
 "nbformat": 4,
 "nbformat_minor": 0
}
